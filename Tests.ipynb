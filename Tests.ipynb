{
 "cells": [
  {
   "cell_type": "markdown",
   "source": [
    "# Financial Analysis with the `stock_analysis` package\n",
    "\n",
    "The [`stock_analysis`](https://github.com/stefmolin/stock-analysis) package can be used for basic technical analysis of financial assets. Here is a breakdown of the classes and their purposes:\n",
    "\n",
    "| Purpose | Class(es) | Module |\n",
    "| --- | --- | --- |\n",
    "| Collecting the data from various sources | `StockReader` | `stock_reader.py` |\n",
    "| Visualizing the data | `Visualizer`, `StockVisualizer`, `AssetGroupVisualizer` | `stock_visualizer.py` |\n",
    "| Calculating financial metrics | `StockAnalyzer`, `AssetGroupAnalyzer` | `stock_analyzer.py` |\n",
    "| Modeling the data | `StockModeler` | `stock_modeler.py` |\n"
   ],
   "metadata": {}
  },
  {
   "cell_type": "markdown",
   "source": [
    "## Data Collection\n",
    "\n",
    "The `StockReader` class in the `stock_analysis` package makes it easy to collect financial data, like stock market or bitcoin prices. We simply have to create an instance by specifying the date range. Then, we can grab the data:"
   ],
   "metadata": {}
  },
  {
   "cell_type": "code",
   "execution_count": null,
   "source": [
    "import stock_analysis\n",
    "\n",
    "reader = stock_analysis.StockReader('2019-01-01', '2020-12-31')\n",
    "\n",
    "# Get faang data\n",
    "fb, aapl, amzn, nflx, goog = (\n",
    "    reader.get_ticker_data(ticker)\n",
    "    for ticker in ['FB', 'AAPL', 'AMZN', 'NFLX', 'GOOG']\n",
    ")\n",
    "\n",
    "# Get S&P 500 data\n",
    "sp = reader.get_index_data('S&P 500')\n",
    "\n",
    "# Get bitcoin data in USD\n",
    "bitcoin = reader.get_bitcoin_data('USD')"
   ],
   "outputs": [],
   "metadata": {}
  },
  {
   "cell_type": "markdown",
   "source": [
    "## EDA\n",
    "We can group our assets together in dataframes in order to perform EDA:"
   ],
   "metadata": {}
  },
  {
   "cell_type": "code",
   "execution_count": null,
   "source": [
    "from stock_analysis.utils import group_stocks, describe_group\n",
    "\n",
    "faang = group_stocks(\n",
    "    {\n",
    "        'Facebook': fb, \n",
    "        'Apple': aapl, \n",
    "        'Amazon': amzn, \n",
    "        'Netflix': nflx, \n",
    "        'Google': goog\n",
    "    }\n",
    ")\n",
    "\n",
    "faang_sp = group_stocks(\n",
    "    {\n",
    "        'Facebook': fb, \n",
    "        'Apple': aapl, \n",
    "        'Amazon': amzn, \n",
    "        'Netflix': nflx, \n",
    "        'Google': goog,\n",
    "        'S&P 500': sp\n",
    "    }\n",
    ")\n",
    "\n",
    "all_assets = group_stocks(\n",
    "    {\n",
    "        'Bitcoin': bitcoin,\n",
    "        'S&P 500': sp,\n",
    "        'Facebook': fb, \n",
    "        'Apple': aapl, \n",
    "        'Amazon': amzn, \n",
    "        'Netflix': nflx, \n",
    "        'Google': goog\n",
    "    }\n",
    ")\n"
   ],
   "outputs": [],
   "metadata": {}
  },
  {
   "cell_type": "markdown",
   "source": [
    "This makes it easy to describe them all at once:"
   ],
   "metadata": {}
  },
  {
   "cell_type": "code",
   "execution_count": null,
   "source": [
    "describe_group(all_assets).loc['close',]"
   ],
   "outputs": [],
   "metadata": {}
  },
  {
   "cell_type": "markdown",
   "source": [
    "### Visualizations\n",
    "The `StockVisualizer` class makes it easy to create a variety of visualizations for financial analysis. We simply pass in the dataframe of the asset we want to visualize:"
   ],
   "metadata": {}
  },
  {
   "cell_type": "code",
   "execution_count": null,
   "source": [
    "%matplotlib inline\n",
    "import matplotlib.pyplot as plt\n",
    "\n",
    "netflix_viz = stock_analysis.StockVisualizer(nflx)"
   ],
   "outputs": [],
   "metadata": {}
  },
  {
   "cell_type": "markdown",
   "source": [
    "We can use the moving average to smooth out the trend for the stock. Notice that, in the shaded region, the 90-day moving average is acting like a ceiling for the stock price:"
   ],
   "metadata": {}
  },
  {
   "cell_type": "code",
   "execution_count": null,
   "source": [
    "ax = netflix_viz.moving_average('close', ['30D', '90D'])\n",
    "\n",
    "netflix_viz.shade_region(\n",
    "    ax, \n",
    "    x=('2019-10-01', '2020-07-01'), \n",
    "    color='blue', \n",
    "    alpha=0.1\n",
    ")\n",
    "\n",
    "ax.set(\n",
    "    title='Netflix Closing Price', \n",
    "    ylabel='price ($)'\n",
    ")"
   ],
   "outputs": [],
   "metadata": {}
  },
  {
   "cell_type": "markdown",
   "source": [
    "Sometimes exponential smoothing makes more sense because we can place higher importance on more recent values:"
   ],
   "metadata": {}
  },
  {
   "cell_type": "code",
   "execution_count": null,
   "source": [
    "ax = netflix_viz.exp_smoothing('close', [30, 90])\n",
    "\n",
    "netflix_viz.shade_region(\n",
    "    ax, \n",
    "    x=('2020-04-01', '2020-10-01'), \n",
    "    color='blue', \n",
    "    alpha=0.1\n",
    ")\n",
    "\n",
    "ax.set(\n",
    "    title='Netflix Closing Price', \n",
    "    ylabel='price ($)'\n",
    ")"
   ],
   "outputs": [],
   "metadata": {}
  },
  {
   "cell_type": "markdown",
   "source": [
    "---\n",
    "\n",
    "**OPTIONAL SECTION**: Interactive Visualization of Moving Averages\n",
    "\n",
    "---\n",
    "\n",
    "We will now use widgets to create an interactive plot to see what different windows do to the moving average and exponentially smoothed moving average. Using the widget backend requires `ipympl`, which we installed back in chapter 1. However, depending on your Jupyter setup and machine you may also need to install `node.js` and with run a few commands from the command line. Try to run the cells below, and if that doesn't work follow the installation instructions [here](https://github.com/matplotlib/jupyter-matplotlib). Make sure to restart the kernel when you are set up.\n",
    "\n",
    "First, we run this magic to enable the widgets back-end:"
   ],
   "metadata": {}
  },
  {
   "cell_type": "code",
   "execution_count": null,
   "source": [
    "%matplotlib widget"
   ],
   "outputs": [],
   "metadata": {}
  },
  {
   "cell_type": "markdown",
   "source": [
    "Next, we run the code to generate the interactive visualization. This uses the `interact()` function from `ipywidgets`:"
   ],
   "metadata": {}
  },
  {
   "cell_type": "code",
   "execution_count": null,
   "source": [
    "%matplotlib widget\n",
    "from ipywidgets import interact\n",
    "\n",
    "\n",
    "def moving_averages(viz):\n",
    "    def plot_viz(period=20, exponentially_smoothed=False):\n",
    "        if exponentially_smoothed:\n",
    "            ax = netflix_viz.exp_smoothing('close', period)\n",
    "        else:\n",
    "            ax = netflix_viz.moving_average('close', str(period) + 'D')\n",
    "        ax.set(\n",
    "            title='Netflix Closing Price', \n",
    "            ylabel='price ($)'\n",
    "        )\n",
    "    return plot_viz\n",
    "\n",
    "\n",
    "interact(\n",
    "    moving_averages(netflix_viz), \n",
    "    period=(5, 200, 5), \n",
    "    exponentially_smoothed=False\n",
    ")\n"
   ],
   "outputs": [],
   "metadata": {}
  },
  {
   "cell_type": "markdown",
   "source": [
    "*More information on the `interact()` function can be found [here](https://ipywidgets.readthedocs.io/en/stable/examples/Using%20Interact.html).*\n",
    "\n",
    "---\n",
    "\n",
    "When finished with the interactive visualization, be sure to switch back to `inline` plots for the rest of the notebook:"
   ],
   "metadata": {}
  },
  {
   "cell_type": "code",
   "execution_count": null,
   "source": [
    "%matplotlib inline"
   ],
   "outputs": [],
   "metadata": {}
  },
  {
   "cell_type": "markdown",
   "source": [
    "---\n",
    "\n",
    "**END OPTIONAL SECTION**\n",
    "\n",
    "---\n",
    "\n",
    "Let's take a look at the effect of after-hours trading:"
   ],
   "metadata": {}
  },
  {
   "cell_type": "code",
   "execution_count": null,
   "source": [
    "netflix_viz.after_hours_trades()"
   ],
   "outputs": [],
   "metadata": {}
  },
  {
   "cell_type": "markdown",
   "source": [
    "We can use a **candlestick plot** to study the OHLC data. More information on reading and interpreting this can be found [here](https://www.investopedia.com/trading/candlestick-charting-what-is-it/)."
   ],
   "metadata": {}
  },
  {
   "cell_type": "code",
   "execution_count": null,
   "source": [
    "netflix_viz.candlestick(\n",
    "    resample='2W', \n",
    "    volume=True, \n",
    "    xrotation=90, \n",
    "    datetime_format='%Y-%b -'\n",
    ")"
   ],
   "outputs": [],
   "metadata": {}
  },
  {
   "cell_type": "markdown",
   "source": [
    "The `mplfinance` package uses it's own stylesheets for plotting, so let's restore the defaults:"
   ],
   "metadata": {}
  },
  {
   "cell_type": "code",
   "execution_count": null,
   "source": [
    "import matplotlib as mpl\n",
    "mpl.rcdefaults()\n",
    "%matplotlib inline"
   ],
   "outputs": [],
   "metadata": {}
  },
  {
   "cell_type": "markdown",
   "source": [
    "We can use a joint plot to see how Netflix compared to the S&P 500:"
   ],
   "metadata": {}
  },
  {
   "cell_type": "code",
   "execution_count": null,
   "source": [
    "netflix_viz.jointplot(sp, 'close')"
   ],
   "outputs": [],
   "metadata": {}
  },
  {
   "cell_type": "markdown",
   "source": [
    "We can also use the `correlation_heatmap()` function to look at the correlation of daily percent change. Here, we compare with Amazon:"
   ],
   "metadata": {}
  },
  {
   "cell_type": "code",
   "execution_count": null,
   "source": [
    "netflix_viz.correlation_heatmap(amzn)"
   ],
   "outputs": [],
   "metadata": {}
  },
  {
   "cell_type": "markdown",
   "source": [
    "We can use the `fill_between_other()` method to compare Netflix's stock price over time to another asset. Here, we look at Tesla:"
   ],
   "metadata": {}
  },
  {
   "cell_type": "code",
   "execution_count": null,
   "source": [
    "tsla = reader.get_ticker_data('TSLA')\n",
    "\n",
    "change_date = (tsla.close > nflx.close).idxmax()\n",
    "\n",
    "ax = netflix_viz.fill_between_other(tsla)\n",
    "netflix_viz.add_reference_line(\n",
    "    ax, \n",
    "    x=change_date, \n",
    "    color='k', \n",
    "    linestyle=':', \n",
    "    label=f'TSLA > NFLX {change_date:%Y-%m-%d}',\n",
    "    alpha=0.5\n",
    ")\n"
   ],
   "outputs": [],
   "metadata": {}
  },
  {
   "cell_type": "markdown",
   "source": [
    "If we want to visualize groups of assets, we use the `AssetGroupVisualizer` class. Let's look at the correlations between the assets using percentage change:"
   ],
   "metadata": {}
  },
  {
   "cell_type": "code",
   "execution_count": null,
   "source": [
    "all_assets_viz = stock_analysis.AssetGroupVisualizer(all_assets)\n",
    "\n",
    "all_assets_viz.heatmap()"
   ],
   "outputs": [],
   "metadata": {}
  },
  {
   "cell_type": "markdown",
   "source": [
    "Bitcoin is on a much larger scale so we have to use subplots to compare it to the stock market:"
   ],
   "metadata": {}
  },
  {
   "cell_type": "code",
   "execution_count": null,
   "source": [
    "faang_sp_viz = stock_analysis.AssetGroupVisualizer(faang_sp)\n",
    "bitcoin_viz = stock_analysis.StockVisualizer(bitcoin)\n",
    "\n",
    "fig, axes = plt.subplots(1, 2, figsize=(15, 5))\n",
    "\n",
    "faang_sp_viz.evolution_over_time(\n",
    "    'close', \n",
    "    ax=axes[0], \n",
    "    style=faang_sp_viz.group_by\n",
    ")\n",
    "bitcoin_viz.evolution_over_time(\n",
    "    'close', \n",
    "    ax=axes[1], \n",
    "    label='Bitcoin'\n",
    ")\n"
   ],
   "outputs": [],
   "metadata": {}
  },
  {
   "cell_type": "markdown",
   "source": [
    "### Additional Plots (not in text)\n",
    "We can view the effect that after-hours trading had on each of the FAANG stocks:"
   ],
   "metadata": {}
  },
  {
   "cell_type": "code",
   "execution_count": null,
   "source": [
    "faang_viz = stock_analysis.AssetGroupVisualizer(faang)\n",
    "faang_viz.after_hours_trades()"
   ],
   "outputs": [],
   "metadata": {}
  },
  {
   "cell_type": "markdown",
   "source": [
    "We can look at what the exponentially smoothed moving averages look like for all FAANG stocks as well:"
   ],
   "metadata": {}
  },
  {
   "cell_type": "code",
   "execution_count": null,
   "source": [
    "faang_viz.exp_smoothing('close', 20)"
   ],
   "outputs": [],
   "metadata": {}
  },
  {
   "cell_type": "markdown",
   "source": [
    "With short windows, both these smoothing methods perform similarly:"
   ],
   "metadata": {}
  },
  {
   "cell_type": "code",
   "execution_count": null,
   "source": [
    "faang_viz.moving_average('close', '20D')"
   ],
   "outputs": [],
   "metadata": {}
  },
  {
   "cell_type": "markdown",
   "source": [
    "The distributions of closing price across the FAANG stocks are quite different:"
   ],
   "metadata": {}
  },
  {
   "cell_type": "code",
   "execution_count": null,
   "source": [
    "faang_viz.histogram('close')"
   ],
   "outputs": [],
   "metadata": {}
  },
  {
   "cell_type": "markdown",
   "source": [
    "Viewing box plots we can easily see that Google and Amazon are on a much larger scale:"
   ],
   "metadata": {}
  },
  {
   "cell_type": "code",
   "execution_count": null,
   "source": [
    "faang_viz.boxplot('close')\n",
    "plt.yscale('log')"
   ],
   "outputs": [],
   "metadata": {}
  },
  {
   "cell_type": "markdown",
   "source": [
    "Correlations between the stocks are weak:"
   ],
   "metadata": {}
  },
  {
   "cell_type": "code",
   "execution_count": null,
   "source": [
    "faang_viz.heatmap()"
   ],
   "outputs": [],
   "metadata": {}
  },
  {
   "cell_type": "markdown",
   "source": [
    "We can view this information as scatter plots as well:"
   ],
   "metadata": {}
  },
  {
   "cell_type": "code",
   "execution_count": null,
   "source": [
    "faang_viz.pairplot()"
   ],
   "outputs": [],
   "metadata": {}
  },
  {
   "cell_type": "markdown",
   "source": [
    "## Technical Analysis\n",
    "Technical analysis involves looking at metrics to understand the peformance of an asset.\n",
    "### Single Asset\n",
    "We can use the `StockAnalyzer` class to calculate metrics for us:"
   ],
   "metadata": {}
  },
  {
   "cell_type": "code",
   "execution_count": null,
   "source": [
    "nflx_analyzer = stock_analysis.StockAnalyzer(nflx)"
   ],
   "outputs": [],
   "metadata": {}
  },
  {
   "cell_type": "markdown",
   "source": [
    "One such metric is annualized volatility:"
   ],
   "metadata": {}
  },
  {
   "cell_type": "code",
   "execution_count": null,
   "source": [
    "nflx_analyzer.calc_annualized_volatility()"
   ],
   "outputs": [],
   "metadata": {}
  },
  {
   "cell_type": "markdown",
   "source": [
    "### Asset Groups\n",
    "When working with groups, we use the `AssetGroupAnalyzer` class:"
   ],
   "metadata": {}
  },
  {
   "cell_type": "code",
   "execution_count": null,
   "source": [
    "all_assets_analyzer = stock_analysis.AssetGroupAnalyzer(all_assets)"
   ],
   "outputs": [],
   "metadata": {}
  },
  {
   "cell_type": "markdown",
   "source": [
    "#### Coefficient of Variation\n",
    "We can check how large the standard deviation is in terms of the mean of the stock price as another way to look at volatility. This shows that bitcoin is the most volatile:"
   ],
   "metadata": {}
  },
  {
   "cell_type": "code",
   "execution_count": null,
   "source": [
    "all_assets_analyzer.analyze('calc_cv')"
   ],
   "outputs": [],
   "metadata": {}
  },
  {
   "cell_type": "markdown",
   "source": [
    "#### Annualized Volatility"
   ],
   "metadata": {}
  },
  {
   "cell_type": "code",
   "execution_count": null,
   "source": [
    "all_assets_analyzer.analyze('calc_annualized_volatility')"
   ],
   "outputs": [],
   "metadata": {}
  },
  {
   "cell_type": "markdown",
   "source": [
    "#### Bull Market\n",
    "We can check if the assets are in a bull market, meaning their value increased $\\geq$ 20% in the last 2 months:"
   ],
   "metadata": {}
  },
  {
   "cell_type": "code",
   "execution_count": null,
   "source": [
    "all_assets_analyzer.analyze('is_bull_market')"
   ],
   "outputs": [],
   "metadata": {}
  },
  {
   "cell_type": "markdown",
   "source": [
    "#### Bear Market\n",
    "We can check if the assets are in a bear market, meaning their value dropped $\\geq$ 20% in the last 2 months:"
   ],
   "metadata": {}
  },
  {
   "cell_type": "code",
   "execution_count": null,
   "source": [
    "all_assets_analyzer.analyze('is_bear_market')"
   ],
   "outputs": [],
   "metadata": {}
  },
  {
   "cell_type": "markdown",
   "source": [
    "#### Beta\n",
    "Beta tells us how an asset's performance correlates to a market index. A beta of 1 with the S&P 500 means the asset moves with the S&P 500. Notice bitcoin is below one because it is a different type of asset."
   ],
   "metadata": {}
  },
  {
   "cell_type": "code",
   "execution_count": null,
   "source": [
    "all_assets_analyzer.analyze(\n",
    "    'calc_beta', \n",
    "    index=sp\n",
    ")"
   ],
   "outputs": [],
   "metadata": {}
  },
  {
   "cell_type": "markdown",
   "source": [
    "#### Alpha\n",
    "Alpha allows us to compare the returns of an asset to an index. We can compare to the S&P 500 using the risk-free rate of return. You can look up rates [here](https://www.treasury.gov/resource-center/data-chart-center/interest-rates/pages/TextView.aspx?data=yield) or use the `StockReader.get_risk_free_rate_of_return()` method. This shows that bitcoin much higher returns than the S&P 500 (due to scale) and Apple is the top performer among the FAANG stocks: "
   ],
   "metadata": {}
  },
  {
   "cell_type": "code",
   "execution_count": null,
   "source": [
    "r_f = reader.get_risk_free_rate_of_return()\n",
    "\n",
    "all_assets_analyzer.analyze(\n",
    "    'calc_alpha', \n",
    "    index=sp, \n",
    "    r_f=r_f\n",
    ")\n"
   ],
   "outputs": [],
   "metadata": {}
  },
  {
   "cell_type": "markdown",
   "source": [
    "#### Cumulative Returns\n",
    "Cumulative returns show us what we would have made for a dollar investment at time period 0. This can be multiplied by the actual investment to get the return:"
   ],
   "metadata": {}
  },
  {
   "cell_type": "code",
   "execution_count": null,
   "source": [
    "from cycler import cycler\n",
    "\n",
    "# To make this a little easier to see in the black and white text\n",
    "\n",
    "colors = list(\n",
    "    plt.get_cmap('tab10')(x/10) \n",
    "    for x in range(10)\n",
    ")\n",
    "linestyles = ['dashed', 'solid', 'dashdot', 'dotted', 'solid']\n",
    "\n",
    "bw_viz_cycler = (\n",
    "    cycler(color=colors) + cycler(linestyle=linestyles*2)\n",
    ")\n",
    "\n",
    "fig, axes = plt.subplots(1, 2, figsize=(15, 5))\n",
    "axes[0].set_prop_cycle(bw_viz_cycler)\n",
    "\n",
    "cumulative_returns = all_assets_analyzer.analyze('calc_cumulative_returns')\n",
    "\n",
    "for name, data in cumulative_returns.items():\n",
    "    data.plot(\n",
    "        ax=axes[1] if name == 'Bitcoin' else axes[0], \n",
    "        label=name,\n",
    "        legend=True\n",
    "    )\n",
    "fig.suptitle('Cumulative Returns')"
   ],
   "outputs": [],
   "metadata": {}
  },
  {
   "cell_type": "markdown",
   "source": [
    "## Modeling\n",
    "For modeling tasks, we can use the `StockModeler` class:"
   ],
   "metadata": {}
  },
  {
   "cell_type": "code",
   "execution_count": null,
   "source": [
    "from stock_analysis import StockModeler"
   ],
   "outputs": [],
   "metadata": {}
  },
  {
   "cell_type": "markdown",
   "source": [
    "### Time Series Decomposition\n",
    "We can decompose the Netflix time series into its trend, seasonality component, and residuals:"
   ],
   "metadata": {}
  },
  {
   "cell_type": "code",
   "execution_count": null,
   "source": [
    "decomposition = StockModeler.decompose(nflx, 20) # 20 period frequency\n",
    "\n",
    "fig = decomposition.plot()\n",
    "fig.suptitle('Netflix Stock Price Time Series Decomposition', y=1)\n",
    "fig.set_figheight(6)\n",
    "fig.set_figwidth(10)\n",
    "fig.tight_layout()\n"
   ],
   "outputs": [],
   "metadata": {}
  },
  {
   "cell_type": "markdown",
   "source": [
    "### ARIMA\n",
    "We can use ARIMA to model the performance with autoregressive (AR), differences or lagged data (I), and moving average (MA) terms. The autocorrelation plot can help find a good starting point for this:"
   ],
   "metadata": {}
  },
  {
   "cell_type": "code",
   "execution_count": null,
   "source": [
    "# We can use autocorrelation plots to find a good starting point for ARIMA\n",
    "\n",
    "from pandas.plotting import autocorrelation_plot\n",
    "autocorrelation_plot(nflx.close)"
   ],
   "outputs": [],
   "metadata": {}
  },
  {
   "cell_type": "markdown",
   "source": [
    "Lag plots can also be helpful:"
   ],
   "metadata": {}
  },
  {
   "cell_type": "code",
   "execution_count": null,
   "source": [
    "from pandas.plotting import lag_plot\n",
    "lag_plot(nflx.close)"
   ],
   "outputs": [],
   "metadata": {}
  },
  {
   "cell_type": "markdown",
   "source": [
    "ARIMA takes a long time to train, so we will start with an AR of 10:"
   ],
   "metadata": {}
  },
  {
   "cell_type": "code",
   "execution_count": null,
   "source": [
    "%%capture\n",
    "# This takes a long time to run, so we will start with a smaller AR of 10\n",
    "\n",
    "arima_model = StockModeler.arima(nflx, ar=10, i=1, ma=5)"
   ],
   "outputs": [],
   "metadata": {}
  },
  {
   "cell_type": "markdown",
   "source": [
    "The `summary()` method shows statistics on the model's performance:"
   ],
   "metadata": {}
  },
  {
   "cell_type": "code",
   "execution_count": null,
   "source": [
    "# AR = 10, I = 1, MA = 5\n",
    "print(arima_model.summary())"
   ],
   "outputs": [],
   "metadata": {}
  },
  {
   "cell_type": "markdown",
   "source": [
    "The residuals appear to be normally distributed (right subplot); however, their size appears to depend on time (left subplot), so this may not be a good model:"
   ],
   "metadata": {}
  },
  {
   "cell_type": "code",
   "execution_count": null,
   "source": [
    "StockModeler.plot_residuals(arima_model)"
   ],
   "outputs": [],
   "metadata": {}
  },
  {
   "cell_type": "markdown",
   "source": [
    "### Linear Regression\n",
    "We can build a linear regression using the last value to determine the next value:"
   ],
   "metadata": {}
  },
  {
   "cell_type": "code",
   "execution_count": null,
   "source": [
    "X, Y, lm = StockModeler.regression(nflx)\n",
    "print(lm.summary())"
   ],
   "outputs": [],
   "metadata": {}
  },
  {
   "cell_type": "markdown",
   "source": [
    "Once again, the residuals appear to depend on time:"
   ],
   "metadata": {}
  },
  {
   "cell_type": "code",
   "execution_count": null,
   "source": [
    "StockModeler.plot_residuals(lm)"
   ],
   "outputs": [],
   "metadata": {}
  },
  {
   "cell_type": "markdown",
   "source": [
    "### Compare Models Against Actuals\n",
    "Let's see how these models compared to what actually happened:"
   ],
   "metadata": {}
  },
  {
   "cell_type": "code",
   "execution_count": null,
   "source": [
    "import datetime as dt\n",
    "\n",
    "start = dt.date(2021, 1, 1)\n",
    "end = dt.date(2021, 1, 14)\n",
    "\n",
    "jan = stock_analysis\\\n",
    "    .StockReader(start, end)\\\n",
    "    .get_ticker_data('NFLX')\n",
    "\n",
    "fig, axes = plt.subplots(1, 2, figsize=(15, 5))\n",
    "\n",
    "arima_ax = StockModeler.arima_predictions(\n",
    "    nflx, \n",
    "    arima_model, \n",
    "    start=start, \n",
    "    end=end,\n",
    "    ax=axes[0], \n",
    "    title='ARIMA', \n",
    "    color='b'\n",
    ")\n",
    "\n",
    "jan.close.plot(\n",
    "    ax=arima_ax, \n",
    "    style='b--', \n",
    "    label='Actual Close'\n",
    ")\n",
    "arima_ax.legend()\n",
    "arima_ax.set_ylabel('price ($)')\n",
    "\n",
    "linear_reg = StockModeler.regression_predictions(\n",
    "    nflx, \n",
    "    lm, \n",
    "    start=start, \n",
    "    end=end,\n",
    "    ax=axes[1], \n",
    "    title='Linear Regression', \n",
    "    color='b'\n",
    ")\n",
    "jan.close.plot(\n",
    "    ax=linear_reg, \n",
    "    style='b--', \n",
    "    label='Actual Close')\n",
    "linear_reg.legend()\n",
    "linear_reg.set_ylabel('price ($)')\n"
   ],
   "outputs": [],
   "metadata": {}
  }
 ],
 "metadata": {
  "kernelspec": {
   "name": "python3",
   "display_name": "Python 3.8.10 64-bit ('env': venv)"
  },
  "language_info": {
   "codemirror_mode": {
    "name": "ipython",
    "version": 3
   },
   "file_extension": ".py",
   "mimetype": "text/x-python",
   "name": "python",
   "nbconvert_exporter": "python",
   "pygments_lexer": "ipython3",
   "version": "3.8.10"
  },
  "interpreter": {
   "hash": "ec71a00c17b0deed523142d12778d47e12b550941525126b6c39a6f991d10701"
  }
 },
 "nbformat": 4,
 "nbformat_minor": 4
}